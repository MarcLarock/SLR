{
 "cells": [
  {
   "cell_type": "code",
   "execution_count": 2,
   "metadata": {
    "collapsed": true,
    "scrolled": true
   },
   "outputs": [],
   "source": [
    "import numpy as np\n",
    "import matplotlib.pylab as plt\n",
    "import pandas as pd\n",
    "from scipy import stats \n",
    "%matplotlib inline"
   ]
  },
  {
   "cell_type": "markdown",
   "metadata": {},
   "source": [
    "### Simple Linear Regression for Gas Mileage \n",
    "***\n",
    "\n",
    "The data in auto.csv contains information on cars from the 1970s and 1980s. Below, I will construct a simple linear regression model for the response variable mpg with horsepower as the feature and mpg as the response.  I will report the estimated regression model in the form $Y = \\alpha + \\beta x$. \n"
   ]
  },
  {
   "cell_type": "code",
   "execution_count": 4,
   "metadata": {},
   "outputs": [
    {
     "data": {
      "text/html": [
       "<div>\n",
       "<table border=\"1\" class=\"dataframe\">\n",
       "  <thead>\n",
       "    <tr style=\"text-align: right;\">\n",
       "      <th></th>\n",
       "      <th>model</th>\n",
       "      <th>year</th>\n",
       "      <th>mpg</th>\n",
       "      <th>cylinders</th>\n",
       "      <th>horsepower</th>\n",
       "      <th>weight</th>\n",
       "    </tr>\n",
       "  </thead>\n",
       "  <tbody>\n",
       "    <tr>\n",
       "      <th>0</th>\n",
       "      <td>chevrolet chevelle malibu</td>\n",
       "      <td>70</td>\n",
       "      <td>18.0</td>\n",
       "      <td>8</td>\n",
       "      <td>130.0</td>\n",
       "      <td>3504.0</td>\n",
       "    </tr>\n",
       "    <tr>\n",
       "      <th>1</th>\n",
       "      <td>buick skylark 320</td>\n",
       "      <td>70</td>\n",
       "      <td>15.0</td>\n",
       "      <td>8</td>\n",
       "      <td>165.0</td>\n",
       "      <td>3693.0</td>\n",
       "    </tr>\n",
       "    <tr>\n",
       "      <th>2</th>\n",
       "      <td>plymouth satellite</td>\n",
       "      <td>70</td>\n",
       "      <td>18.0</td>\n",
       "      <td>8</td>\n",
       "      <td>150.0</td>\n",
       "      <td>3436.0</td>\n",
       "    </tr>\n",
       "    <tr>\n",
       "      <th>3</th>\n",
       "      <td>amc rebel sst</td>\n",
       "      <td>70</td>\n",
       "      <td>16.0</td>\n",
       "      <td>8</td>\n",
       "      <td>150.0</td>\n",
       "      <td>3433.0</td>\n",
       "    </tr>\n",
       "    <tr>\n",
       "      <th>4</th>\n",
       "      <td>ford torino</td>\n",
       "      <td>70</td>\n",
       "      <td>17.0</td>\n",
       "      <td>8</td>\n",
       "      <td>140.0</td>\n",
       "      <td>3449.0</td>\n",
       "    </tr>\n",
       "  </tbody>\n",
       "</table>\n",
       "</div>"
      ],
      "text/plain": [
       "                       model  year   mpg  cylinders  horsepower  weight\n",
       "0  chevrolet chevelle malibu    70  18.0          8       130.0  3504.0\n",
       "1          buick skylark 320    70  15.0          8       165.0  3693.0\n",
       "2         plymouth satellite    70  18.0          8       150.0  3436.0\n",
       "3              amc rebel sst    70  16.0          8       150.0  3433.0\n",
       "4                ford torino    70  17.0          8       140.0  3449.0"
      ]
     },
     "execution_count": 4,
     "metadata": {},
     "output_type": "execute_result"
    }
   ],
   "source": [
    "dfAuto = pd.read_csv(\"data/auto.csv\")\n",
    "dfAuto.head()"
   ]
  },
  {
   "cell_type": "code",
   "execution_count": 5,
   "metadata": {
    "collapsed": true
   },
   "outputs": [],
   "source": [
    "bhat, ahat, rval, pval, stderr = stats.linregress(dfAuto[\"horsepower\"], dfAuto[\"mpg\"])"
   ]
  },
  {
   "cell_type": "code",
   "execution_count": 6,
   "metadata": {},
   "outputs": [
    {
     "name": "stdout",
     "output_type": "stream",
     "text": [
      "Y =  39.94  + -0.16x\n"
     ]
    }
   ],
   "source": [
    "print(\"Y =  {:.2f}\" .format(ahat), \" + {:.2f}x\" .format(bhat))"
   ]
  },
  {
   "cell_type": "markdown",
   "metadata": {},
   "source": [
    "Now, I will make a scatter-plot of the data with horsepower as the feature and mpg as the response and overlay the estimated regression line. "
   ]
  },
  {
   "cell_type": "code",
   "execution_count": 7,
   "metadata": {
    "collapsed": true
   },
   "outputs": [],
   "source": [
    "def plot_line_noisy(var=1,alpha=ahat,beta=bhat,n_points=25):\n",
    "    noise_x = dfAuto[\"horsepower\"]\n",
    "    noise_y = dfAuto[\"mpg\"]\n",
    "    fig, ax = plt.subplots(figsize=(12,6))\n",
    "    x = np.arange(dfAuto[\"horsepower\"].min(), dfAuto[\"horsepower\"].max())\n",
    "    scatter = ax.scatter(noise_x,noise_y,color=\"xkcd:dusk\",marker='o')\n",
    "    line = ax.plot(x,beta*x+alpha,color=\"black\", label = \"horsepower\")\n",
    "    ax.set_xlabel(\"x\", fontsize=16)\n",
    "    ax.set_ylabel(\"y\", fontsize=16)\n",
    "    \n",
    "    ax.set_facecolor('xkcd:pale grey')\n",
    "    plt.legend()"
   ]
  },
  {
   "cell_type": "code",
   "execution_count": 8,
   "metadata": {},
   "outputs": [
    {
     "data": {
      "image/png": "[encoded data removed]",
      "text/plain": [
       "<Figure size 864x432 with 1 Axes>"
      ]
     },
     "metadata": {},
     "output_type": "display_data"
    }
   ],
   "source": [
    "plot_line_noisy(var=1)"
   ]
  },
  {
   "cell_type": "markdown",
   "metadata": {
    "collapsed": true
   },
   "source": [
    "We can clearly see that the relationship is negative, since the variables (MPG and horsepower) move in opposite directions. "
   ]
  },
  {
   "cell_type": "markdown",
   "metadata": {},
   "source": [
    "**Part 2**: Now I will find a 95% confidence interval for the slope parameter.  "
   ]
  },
  {
   "cell_type": "code",
   "execution_count": 9,
   "metadata": {
    "collapsed": true
   },
   "outputs": [],
   "source": [
    "#list comprehension for SSE:\n",
    "SSE = [(dfAuto[\"mpg\"][i] - (ahat+bhat*(dfAuto[\"horsepower\"][i])))**2 for i in range(dfAuto.shape[0])]\n",
    "SSE = np.array(SSE).sum()"
   ]
  },
  {
   "cell_type": "code",
   "execution_count": 10,
   "metadata": {
    "collapsed": true
   },
   "outputs": [],
   "source": [
    "bhat = bhat\n",
    "t_alpha = stats.t.ppf(0.975,(dfAuto.shape[0]-2)) #.05/2, but get postive end graph\n",
    "\n",
    "sigma = np.sqrt((SSE/(dfAuto.shape[0]-2)))\n",
    "xbar = dfAuto[\"horsepower\"].mean()\n",
    "denom = [(dfAuto[\"horsepower\"][i]-xbar)**2 for i in range(dfAuto.shape[0])]\n",
    "denom = np.array(denom).sum()\n",
    "denom = np.sqrt(denom)\n",
    "\n",
    "SEBetahat = sigma/denom"
   ]
  },
  {
   "cell_type": "code",
   "execution_count": 11,
   "metadata": {},
   "outputs": [
    {
     "name": "stdout",
     "output_type": "stream",
     "text": [
      "-0.14517245824295014\n",
      "-0.17051700846435683\n"
     ]
    }
   ],
   "source": [
    "ciupper = bhat + t_alpha*(SEBetahat)\n",
    "cilower = bhat - t_alpha*(SEBetahat)\n",
    "\n",
    "print(ciupper)\n",
    "print(cilower)"
   ]
  },
  {
   "cell_type": "markdown",
   "metadata": {},
   "source": [
    "Since 0 is not within the range of the confidence interval, we can conclude there is a relationship between mpg and horsepower."
   ]
  },
  {
   "cell_type": "markdown",
   "metadata": {},
   "source": [
    "**Part 3**: Now I will double-check my result from **Part 2** by performing an equivalent hypothesis test.  "
   ]
  },
  {
   "cell_type": "markdown",
   "metadata": {},
   "source": [
    "Let $\\mu$ be the slope parameter. Then, we have a two-tailed test with hypotheses:\n",
    "\n",
    "$$\n",
    "\\begin{array}{l}\n",
    "H_0: \\mu = 0  \\\\\n",
    "H_1: \\mu \\neq 0  \\\\\n",
    "\\end{array}\n",
    "$$"
   ]
  },
  {
   "cell_type": "markdown",
   "metadata": {},
   "source": [
    "In order to test the alternative hypothesis, I will:\n",
    "\n",
    "1. Compute the difference in sample mean and the t-test statistics, $t$\n",
    "2. Compute the one-sided critical value $t_\\alpha = -t_{0.05}$ \n",
    "3. Reject or fail to reject $H_0$ "
   ]
  },
  {
   "cell_type": "code",
   "execution_count": 36,
   "metadata": {},
   "outputs": [
    {
     "name": "stdout",
     "output_type": "stream",
     "text": [
      "1.9660653313\n",
      "-1.9660653313\n",
      "-24.4891351603\n"
     ]
    }
   ],
   "source": [
    "dif_mean = bhat - 0\n",
    "t = dif_mean/SEBetahat\n",
    "print(t_alpha)\n",
    "print(-t_alpha)\n",
    "print(t)\n"
   ]
  },
  {
   "cell_type": "markdown",
   "metadata": {},
   "source": [
    "The t-score is clearly in the rejection region. Therefore, we reject the Null hypothesis that the slope is zero and that the two variables are therefore unrelated. This coclusion agrees with my findings in Part 2."
   ]
  }
 ],
 "metadata": {
  "kernelspec": {
   "display_name": "Python 3",
   "language": "python",
   "name": "python3"
  },
  "language_info": {
   "codemirror_mode": {
    "name": "ipython",
    "version": 3
   },
   "file_extension": ".py",
   "mimetype": "text/x-python",
   "name": "python",
   "nbconvert_exporter": "python",
   "pygments_lexer": "ipython3",
   "version": "3.6.8"
  }
 },
 "nbformat": 4,
 "nbformat_minor": 2
}
